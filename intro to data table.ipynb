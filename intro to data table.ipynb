{
 "cells": [
  {
   "cell_type": "markdown",
   "metadata": {},
   "source": [
    "<img src=\"data.table.jpg\">"
   ]
  },
  {
   "cell_type": "markdown",
   "metadata": {},
   "source": [
    "<br><br><br><br>\n",
    "## 1. Create a simple table\n",
    "---"
   ]
  },
  {
   "cell_type": "code",
   "execution_count": null,
   "metadata": {},
   "outputs": [],
   "source": [
    "\n",
    "library(data.table)\n",
    "\n",
    "# A simple data table\n",
    "DT <- data.table(MemberID = 1:4,\n",
    "                 FirstName = c('Alice', 'Brad', 'Chris', 'Donna'),\n",
    "                 LastName = c('Allen', 'Boyle', 'Coen', 'Davis'),\n",
    "                 DateJoined = as.Date(c('2017-03-25', '2019-11-04', '2018-09-02', '2017-02-12')),\n",
    "                 Position = factor(c('Organizer', 'Organizer', 'Director', 'Treasurer')))\n",
    "DT\n"
   ]
  },
  {
   "cell_type": "code",
   "execution_count": null,
   "metadata": {},
   "outputs": [],
   "source": [
    "\n",
    "# Display DT column classes\n",
    "sapply(DT, class)\n"
   ]
  },
  {
   "cell_type": "code",
   "execution_count": null,
   "metadata": {},
   "outputs": [],
   "source": [
    "\n",
    "# Compare to a data frame\n",
    "DF <- data.frame(MemberID = 1:4,\n",
    "                 FirstName = c('Alice', 'Brad', 'Chris', 'Donna'),\n",
    "                 LastName = c('Allen', 'Boyle', 'Coen', 'Davis'),\n",
    "                 DateJoined = as.Date(c('2017-03-25', '2019-11-04', '2018-09-02', '2017-02-12')),\n",
    "                 Position = factor(c('Organizer', 'Organizer', 'Director', 'Treasurer')))\n",
    "\n",
    "sapply(DF, class)\n"
   ]
  },
  {
   "cell_type": "code",
   "execution_count": null,
   "metadata": {},
   "outputs": [],
   "source": [
    "\n",
    "# Class 'data.table' extends class 'data.frame'\n",
    "class(DT)\n"
   ]
  },
  {
   "cell_type": "markdown",
   "metadata": {},
   "source": [
    "<br><br><br><br>\n",
    "## 2. Read/write a file\n",
    "---"
   ]
  },
  {
   "cell_type": "code",
   "execution_count": null,
   "metadata": {
    "scrolled": true
   },
   "outputs": [],
   "source": [
    "\n",
    "# Read a 14 MB .csv file into a data frame using read.csv()\n",
    "system.time(\n",
    "    ratings_df <- read.csv('nbaallelo.csv')\n",
    ")[3]\n",
    "\n",
    "# Source: https://github.com/fivethirtyeight/data/tree/master/nba-elo\n"
   ]
  },
  {
   "cell_type": "code",
   "execution_count": null,
   "metadata": {},
   "outputs": [],
   "source": [
    "\n",
    "# Read a 14 MB .csv file into a data table using fread() \n",
    "system.time(\n",
    "    ratings <- fread('nbaallelo.csv')\n",
    ")[3]\n"
   ]
  },
  {
   "cell_type": "code",
   "execution_count": null,
   "metadata": {},
   "outputs": [],
   "source": [
    "?fread\n"
   ]
  },
  {
   "cell_type": "code",
   "execution_count": null,
   "metadata": {},
   "outputs": [],
   "source": [
    "\n",
    "# Write a data frame using write.csv()\n",
    "system.time(\n",
    "    write.csv(ratings_df, 'ratings_df.csv')\n",
    ")[3]\n"
   ]
  },
  {
   "cell_type": "code",
   "execution_count": null,
   "metadata": {},
   "outputs": [],
   "source": [
    "\n",
    "# Write a data table using fwrite()\n",
    "system.time(\n",
    "    fwrite(ratings, 'ratings.csv')\n",
    ")[3]\n"
   ]
  },
  {
   "cell_type": "code",
   "execution_count": null,
   "metadata": {
    "scrolled": true
   },
   "outputs": [],
   "source": [
    "\n",
    "ratings\n"
   ]
  },
  {
   "cell_type": "code",
   "execution_count": null,
   "metadata": {},
   "outputs": [],
   "source": [
    "nrow(ratings\n",
    "    )"
   ]
  },
  {
   "cell_type": "markdown",
   "metadata": {},
   "source": [
    "<br><br><br><br>\n",
    "## 3. Subset and select\n",
    "---"
   ]
  },
  {
   "cell_type": "markdown",
   "metadata": {},
   "source": [
    "Basic syntax:\n",
    "\n",
    "<img src=\"basic syntax.jpg\">"
   ]
  },
  {
   "cell_type": "code",
   "execution_count": null,
   "metadata": {
    "scrolled": true
   },
   "outputs": [],
   "source": [
    "\n",
    "# Subset only rows (observations) involving the New York Knicks\n",
    "rowSubset <- ratings[team_id == 'NYK' | opp_id == 'NYK']\n",
    "rowSubset\n"
   ]
  },
  {
   "cell_type": "code",
   "execution_count": null,
   "metadata": {
    "scrolled": true
   },
   "outputs": [],
   "source": [
    "\n",
    "# Select specified columns using character vector (method 1)\n",
    "columnSubset <- ratings[, c('date_game', 'team_id', 'pts', 'opp_id', 'opp_pts', 'forecast')]\n",
    "columnSubset\n"
   ]
  },
  {
   "cell_type": "code",
   "execution_count": null,
   "metadata": {},
   "outputs": [],
   "source": [
    "\n",
    "# Select specified columns using vector of variable names (method 2)\n",
    "varNames <- c('date_game', 'team_id', 'pts', 'opp_id', 'opp_pts', 'forecast')\n",
    "\n",
    "# This doesn't work!\n",
    "columnSubset <- ratings[, varNames]\n",
    "\n",
    "# ratings.dt doesn't contain a column named 'varNames'\n"
   ]
  },
  {
   "cell_type": "code",
   "execution_count": null,
   "metadata": {
    "scrolled": true
   },
   "outputs": [],
   "source": [
    "\n",
    "# This *does* work\n",
    "columnSubset <- ratings[, ..varNames]\n",
    "columnSubset\n"
   ]
  },
  {
   "cell_type": "code",
   "execution_count": null,
   "metadata": {
    "scrolled": true
   },
   "outputs": [],
   "source": [
    "\n",
    "# Drop specified columns using character vector of variable names\n",
    "columnDropSubset <- ratings[, !c('date_game', 'team_id', 'pts', 'opp_id', 'opp_pts', 'forecast')]\n",
    "columnDropSubset\n"
   ]
  },
  {
   "cell_type": "code",
   "execution_count": null,
   "metadata": {
    "scrolled": true
   },
   "outputs": [],
   "source": [
    "\n",
    "# Select multiple columns (variables) using list of variables\n",
    "columnSubset <- ratings[, .(date_game, team_id, pts, opp_id, opp_pts, forecast)]\n",
    "columnSubset\n"
   ]
  },
  {
   "cell_type": "code",
   "execution_count": null,
   "metadata": {
    "scrolled": true
   },
   "outputs": [],
   "source": [
    "\n",
    "# Subset and rename columns using list specification\n",
    "renamedColumnSubset <-\n",
    "  ratings[, .(date = date_game, team_id, team_pts = pts, opp_id, opp_pts, team_forecast = forecast)]\n",
    "renamedColumnSubset\n"
   ]
  },
  {
   "cell_type": "code",
   "execution_count": null,
   "metadata": {
    "scrolled": true
   },
   "outputs": [],
   "source": [
    "\n",
    "# Subset rows and columns\n",
    "rowColumnSubset <- ratings[team_id == 'NYK' | opp_id == 'NYK',\n",
    "                                 .(date_game, team_id, pts, opp_id, opp_pts, team_forecast = forecast)]\n",
    "rowColumnSubset\n"
   ]
  },
  {
   "cell_type": "code",
   "execution_count": null,
   "metadata": {
    "scrolled": true
   },
   "outputs": [],
   "source": [
    "\n",
    "# Calculate median forecast for Knicks in 1972-1973 season\n",
    "medianFcst <- ratings[team_id == 'NYK' & year_id == 1973,\n",
    "                         list(median_fcst = median(forecast), sd_fcst = sd(forecast))]\n",
    "medianFcst\n"
   ]
  },
  {
   "cell_type": "code",
   "execution_count": null,
   "metadata": {
    "scrolled": true
   },
   "outputs": [],
   "source": [
    "\n",
    "# Calculate median forecast for Knicks, grouped by year\n",
    "medianByYear <- ratings[team_id == 'NYK',\n",
    "                              .(median_fcst = median(forecast)),\n",
    "                              by = .(year = year_id)]\n",
    "medianByYear\n"
   ]
  },
  {
   "cell_type": "code",
   "execution_count": null,
   "metadata": {
    "scrolled": true
   },
   "outputs": [],
   "source": [
    "\n",
    "# Calculate median forecast and mean points scored for Knicks, grouped by year and game location\n",
    "medAndMeanByYearAndLocation <- ratings[team_id == 'NYK',\n",
    "                                             .(median_fcst = median(forecast), mean_pts = mean(pts)),\n",
    "                                             by = .(year_id, game_location)]\n",
    "medAndMeanByYearAndLocation\n"
   ]
  },
  {
   "cell_type": "markdown",
   "metadata": {},
   "source": [
    "<br><br><br><br>\n",
    "## 4. Special symbols in j\n",
    "---"
   ]
  },
  {
   "cell_type": "code",
   "execution_count": null,
   "metadata": {
    "scrolled": true
   },
   "outputs": [],
   "source": [
    "\n",
    "# Determine the number of observations in which the Knicks played the Lakers, grouped by year\n",
    "gamesByYear <- ratings[team_id == 'NYK' & opp_id == 'LAL',\n",
    "                             .N,\n",
    "                             by = .(year_id)]\n",
    "gamesByYear\n"
   ]
  },
  {
   "cell_type": "code",
   "execution_count": null,
   "metadata": {
    "scrolled": true
   },
   "outputs": [],
   "source": [
    "\n",
    "# Determine the row indices of observations in which the Knicks played the Lakers, grouped by year\n",
    "rowIndices <- ratings[team_id == 'NYK' & opp_id == 'LAL',\n",
    "                            .(.I),\n",
    "                            by = .(year_id)]\n",
    "rowIndices\n"
   ]
  },
  {
   "cell_type": "code",
   "execution_count": null,
   "metadata": {},
   "outputs": [],
   "source": [
    "\n",
    "# View the man page for special symbols\n",
    "ratings[3, 4]\n",
    "ratings$year_id[4]"
   ]
  },
  {
   "cell_type": "code",
   "execution_count": null,
   "metadata": {},
   "outputs": [],
   "source": []
  },
  {
   "cell_type": "markdown",
   "metadata": {},
   "source": [
    "<br><br><br><br>\n",
    "## 5. Update tables by reference\n",
    "---"
   ]
  },
  {
   "cell_type": "code",
   "execution_count": null,
   "metadata": {},
   "outputs": [],
   "source": [
    "\n",
    "# Coerce a data frame to a data table by making a copy\n",
    "dataFrameToDataTable <- as.data.table(DF)\n",
    "\n",
    "class(DF)\n",
    "class(dataFrameToDataTable)\n"
   ]
  },
  {
   "cell_type": "code",
   "execution_count": null,
   "metadata": {},
   "outputs": [],
   "source": [
    "\n",
    "# Coerce a data frame to a data table by reference\n",
    "setDT(DF)\n",
    "\n",
    "class(DF)\n"
   ]
  },
  {
   "cell_type": "code",
   "execution_count": null,
   "metadata": {},
   "outputs": [],
   "source": [
    "\n",
    "DT\n",
    "\n",
    "# Add a column using :=\n",
    "DT[, FullName := paste(FirstName, LastName)]\n",
    "\n",
    "DT\n"
   ]
  },
  {
   "cell_type": "code",
   "execution_count": null,
   "metadata": {},
   "outputs": [],
   "source": [
    "\n",
    "# Add multiple columns\n",
    "DT[, c('MonthJoined', 'DayJoined', 'YearJoined') :=\n",
    "   .(format(DateJoined, '%m'), format(DateJoined, '%d'), format(DateJoined, '%Y'))]\n",
    "\n",
    "DT\n"
   ]
  },
  {
   "cell_type": "code",
   "execution_count": null,
   "metadata": {},
   "outputs": [],
   "source": [
    "\n",
    "# Drop columns\n",
    "DT[, c('FirstName', 'LastName') := NULL]\n",
    "\n",
    "DT\n"
   ]
  },
  {
   "cell_type": "code",
   "execution_count": null,
   "metadata": {},
   "outputs": [],
   "source": [
    "\n",
    "# Sort by increasing value of DateJoined\n",
    "setorder(DT, DateJoined)\n",
    "DT\n"
   ]
  },
  {
   "cell_type": "code",
   "execution_count": null,
   "metadata": {},
   "outputs": [],
   "source": [
    "\n",
    "# Sort by increasing Position and decreasng FullName\n",
    "setorder(DT, Position, -FullName)\n",
    "DT\n"
   ]
  },
  {
   "cell_type": "code",
   "execution_count": null,
   "metadata": {},
   "outputs": [],
   "source": [
    "\n",
    "# Reorder columns\n",
    "setcolorder(DT, c('YearJoined', 'MonthJoined', 'DayJoined'))\n",
    "\n",
    "DT\n"
   ]
  },
  {
   "cell_type": "markdown",
   "metadata": {},
   "source": [
    "<br><br><br><br>\n",
    "## 6. Merge tables (a different syntax)\n",
    "---"
   ]
  },
  {
   "cell_type": "code",
   "execution_count": null,
   "metadata": {},
   "outputs": [],
   "source": [
    "\n",
    "# Read box score table from file\n",
    "hou2015 <- fread('box_score_houston_rockets_2014-2015.csv')\n",
    "hou2015\n",
    "\n",
    "# Source:  https://stats.nba.com\n"
   ]
  },
  {
   "cell_type": "code",
   "execution_count": null,
   "metadata": {
    "scrolled": true
   },
   "outputs": [],
   "source": [
    "\n",
    "# SQL equivalent:\n",
    "#\n",
    "#  SELECT *\n",
    "#  FROM hou2015\n",
    "#  RIGHT JOIN ratings\n",
    "#  ON hou2015.TEAM = ratings.team_id\n",
    "#  AND hou2015.DATE = ratings.date_game\n",
    "#\n",
    "\n",
    "# Using data table merge syntax\n",
    "hou2015_rj_ratings <- hou2015[ratings, on = c('TEAM' = 'team_id',  'DATE' = 'date_game')]\n",
    "\n",
    "# Equivalent use of merge():\n",
    "#\n",
    "#  hou2015_rj_ratings <- merge(x = ratings, y = hou2015,\n",
    "#                              by.x = c('team_id', 'date_game'), by.y = c('TEAM', 'DATE'),\n",
    "#                              all.x = TRUE, all.y = FALSE)\n",
    "#\n",
    "\n",
    "hou2015_rj_ratings\n"
   ]
  },
  {
   "cell_type": "code",
   "execution_count": null,
   "metadata": {},
   "outputs": [],
   "source": [
    "\n",
    "hou2015_rj_ratings[, .N]\n",
    "\n",
    "ratings[, .N]\n"
   ]
  },
  {
   "cell_type": "code",
   "execution_count": null,
   "metadata": {
    "scrolled": true
   },
   "outputs": [],
   "source": [
    "\n",
    "# SQL equivalent:\n",
    "#\n",
    "#  SELECT *\n",
    "#  FROM hou2015\n",
    "#  LEFT JOIN ratings\n",
    "#  ON hou2015.TEAM = ratings.team_id\n",
    "#  AND hou2015.DATE = ratings.date_game\n",
    "#\n",
    "\n",
    "# Using data table merge syntax\n",
    "hou2015_lj_ratings <- ratings[hou2015, on = c('team_id' = 'TEAM' ,  'date_game' = 'DATE')]\n",
    "\n",
    "# Equivalent use of merge():\n",
    "#\n",
    "#  hou2015_lj_ratings <- merge(x = ratings, y = hou2015,\n",
    "#                              by.x = c('team_id', 'date_game'), by.y = c('TEAM', 'DATE'),\n",
    "#                              all.x = FALSE, all.y = TRUE)\n",
    "#\n",
    "\n",
    "hou2015_lj_ratings\n"
   ]
  },
  {
   "cell_type": "code",
   "execution_count": null,
   "metadata": {},
   "outputs": [],
   "source": [
    "\n",
    "hou2015_lj_ratings[, .N]\n",
    "\n",
    "hou2015[, .N]\n"
   ]
  },
  {
   "cell_type": "code",
   "execution_count": null,
   "metadata": {
    "scrolled": true
   },
   "outputs": [],
   "source": [
    "\n",
    "# SQL equivalent:\n",
    "#\n",
    "#  SELECT *\n",
    "#  FROM hou2015\n",
    "#  INNER JOIN ratings\n",
    "#  ON hou2015.TEAM = ratings.team_id\n",
    "#  AND hou2015.DATE = ratings.date_game\n",
    "#\n",
    "\n",
    "hou2015_ij_ratings <- ratings[hou2015, on = c(\"team_id\" = \"TEAM\" ,  'date_game' = 'DATE'), nomatch = 0]\n",
    "\n",
    "# Equivalent use of merge():\n",
    "#\n",
    "#  hou2015_ij_ratings <- merge(x = ratings, y = hou2015,\n",
    "#                              by.x = c('team_id', 'date_game'), by.y = c('TEAM', 'DATE'),\n",
    "#                              all.x = FALSE, all.y = FALSE)\n",
    "#\n",
    "\n",
    "hou2015_ij_ratings\n"
   ]
  },
  {
   "cell_type": "code",
   "execution_count": null,
   "metadata": {},
   "outputs": [],
   "source": [
    "\n",
    "hou2015_ij_ratings[, .N]\n",
    "\n",
    "hou2015[, .N]\n",
    "\n",
    "ratings[, .N]\n"
   ]
  },
  {
   "cell_type": "markdown",
   "metadata": {},
   "source": [
    "<br><br><br>\n",
    "## Thank you!\n",
    "<br><br>\n",
    "<img src=\"hop in.jpg\">"
   ]
  }
 ],
 "metadata": {
  "kernelspec": {
   "display_name": "R",
   "language": "R",
   "name": "ir"
  },
  "language_info": {
   "codemirror_mode": "r",
   "file_extension": ".r",
   "mimetype": "text/x-r-source",
   "name": "R",
   "pygments_lexer": "r",
   "version": "3.5.1"
  }
 },
 "nbformat": 4,
 "nbformat_minor": 2
}
