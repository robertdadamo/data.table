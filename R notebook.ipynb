{
 "cells": [
  {
   "cell_type": "markdown",
   "metadata": {},
   "source": [
    "## data.table\n",
    " \n",
    "<img src=\"https://www.autoguide.com/blog/wp-content/gallery/2018-lamborghini-aventador-s-roadster/Lamborghini-Aventador-S-Roadster-3.jpg\" title=\"Lamborghini Aventador S Roadster\" />\n"
   ]
  },
  {
   "cell_type": "markdown",
   "metadata": {},
   "source": [
    "<br><br><br><br>\n",
    "# Create a simple table\n",
    "\n",
    "\n",
    "\n"
   ]
  },
  {
   "cell_type": "code",
   "execution_count": 10,
   "metadata": {
    "collapsed": true
   },
   "outputs": [
    {
     "data": {
      "text/html": [
       "<table>\n",
       "<thead><tr><th scope=col>MemberID</th><th scope=col>FirstName</th><th scope=col>LastName</th><th scope=col>DateJoined</th><th scope=col>Position</th></tr></thead>\n",
       "<tbody>\n",
       "\t<tr><td>1         </td><td>Alice     </td><td>Allen     </td><td>2017-03-25</td><td>Organizer </td></tr>\n",
       "\t<tr><td>2         </td><td>Brad      </td><td>Boyle     </td><td>2019-11-04</td><td>Organizer </td></tr>\n",
       "\t<tr><td>3         </td><td>Chris     </td><td>Coen      </td><td>2018-09-02</td><td>Director  </td></tr>\n",
       "\t<tr><td>4         </td><td>Donna     </td><td>Davis     </td><td>2017-02-12</td><td>Treasurer </td></tr>\n",
       "</tbody>\n",
       "</table>\n"
      ],
      "text/latex": [
       "\\begin{tabular}{r|lllll}\n",
       " MemberID & FirstName & LastName & DateJoined & Position\\\\\n",
       "\\hline\n",
       "\t 1          & Alice      & Allen      & 2017-03-25 & Organizer \\\\\n",
       "\t 2          & Brad       & Boyle      & 2019-11-04 & Organizer \\\\\n",
       "\t 3          & Chris      & Coen       & 2018-09-02 & Director  \\\\\n",
       "\t 4          & Donna      & Davis      & 2017-02-12 & Treasurer \\\\\n",
       "\\end{tabular}\n"
      ],
      "text/markdown": [
       "\n",
       "MemberID | FirstName | LastName | DateJoined | Position | \n",
       "|---|---|---|---|\n",
       "| 1          | Alice      | Allen      | 2017-03-25 | Organizer  | \n",
       "| 2          | Brad       | Boyle      | 2019-11-04 | Organizer  | \n",
       "| 3          | Chris      | Coen       | 2018-09-02 | Director   | \n",
       "| 4          | Donna      | Davis      | 2017-02-12 | Treasurer  | \n",
       "\n",
       "\n"
      ],
      "text/plain": [
       "  MemberID FirstName LastName DateJoined Position \n",
       "1 1        Alice     Allen    2017-03-25 Organizer\n",
       "2 2        Brad      Boyle    2019-11-04 Organizer\n",
       "3 3        Chris     Coen     2018-09-02 Director \n",
       "4 4        Donna     Davis    2017-02-12 Treasurer"
      ]
     },
     "metadata": {},
     "output_type": "display_data"
    },
    {
     "name": "stdout",
     "output_type": "stream",
     "text": [
      "[1] \"DT column classes:\"\n"
     ]
    },
    {
     "data": {
      "text/html": [
       "<dl class=dl-horizontal>\n",
       "\t<dt>MemberID</dt>\n",
       "\t\t<dd>'integer'</dd>\n",
       "\t<dt>FirstName</dt>\n",
       "\t\t<dd>'character'</dd>\n",
       "\t<dt>LastName</dt>\n",
       "\t\t<dd>'character'</dd>\n",
       "\t<dt>DateJoined</dt>\n",
       "\t\t<dd>'Date'</dd>\n",
       "\t<dt>Position</dt>\n",
       "\t\t<dd>'factor'</dd>\n",
       "</dl>\n"
      ],
      "text/latex": [
       "\\begin{description*}\n",
       "\\item[MemberID] 'integer'\n",
       "\\item[FirstName] 'character'\n",
       "\\item[LastName] 'character'\n",
       "\\item[DateJoined] 'Date'\n",
       "\\item[Position] 'factor'\n",
       "\\end{description*}\n"
      ],
      "text/markdown": [
       "MemberID\n",
       ":   'integer'FirstName\n",
       ":   'character'LastName\n",
       ":   'character'DateJoined\n",
       ":   'Date'Position\n",
       ":   'factor'\n",
       "\n"
      ],
      "text/plain": [
       "   MemberID   FirstName    LastName  DateJoined    Position \n",
       "  \"integer\" \"character\" \"character\"      \"Date\"    \"factor\" "
      ]
     },
     "metadata": {},
     "output_type": "display_data"
    }
   ],
   "source": [
    "library(data.table)\n",
    "\n",
    "# A simple data table\n",
    "DT <- data.table(MemberID = 1:4,\n",
    "                 FirstName = c('Alice', 'Brad', 'Chris', 'Donna'),\n",
    "                 LastName = c('Allen', 'Boyle', 'Coen', 'Davis'),\n",
    "                 DateJoined = as.Date(c('2017-03-25', '2019-11-04', '2018-09-02', '2017-02-12')),\n",
    "                 Position = factor(c('Organizer', 'Organizer', 'Director', 'Treasurer')))\n",
    "DT\n",
    "\n",
    "# Display DT column classes\n",
    "print('DT column classes:')\n",
    "sapply(DT, class)"
   ]
  },
  {
   "cell_type": "code",
   "execution_count": 9,
   "metadata": {
    "collapsed": true
   },
   "outputs": [
    {
     "data": {
      "text/html": [
       "<table>\n",
       "<thead><tr><th scope=col>MemberID</th><th scope=col>FirstName</th><th scope=col>LastName</th><th scope=col>DateJoined</th><th scope=col>Position</th></tr></thead>\n",
       "<tbody>\n",
       "\t<tr><td>1         </td><td>Alice     </td><td>Allen     </td><td>2017-03-25</td><td>Organizer </td></tr>\n",
       "\t<tr><td>2         </td><td>Brad      </td><td>Boyle     </td><td>2019-11-04</td><td>Organizer </td></tr>\n",
       "\t<tr><td>3         </td><td>Chris     </td><td>Coen      </td><td>2018-09-02</td><td>Director  </td></tr>\n",
       "\t<tr><td>4         </td><td>Donna     </td><td>Davis     </td><td>2017-02-12</td><td>Treasurer </td></tr>\n",
       "</tbody>\n",
       "</table>\n"
      ],
      "text/latex": [
       "\\begin{tabular}{r|lllll}\n",
       " MemberID & FirstName & LastName & DateJoined & Position\\\\\n",
       "\\hline\n",
       "\t 1          & Alice      & Allen      & 2017-03-25 & Organizer \\\\\n",
       "\t 2          & Brad       & Boyle      & 2019-11-04 & Organizer \\\\\n",
       "\t 3          & Chris      & Coen       & 2018-09-02 & Director  \\\\\n",
       "\t 4          & Donna      & Davis      & 2017-02-12 & Treasurer \\\\\n",
       "\\end{tabular}\n"
      ],
      "text/markdown": [
       "\n",
       "MemberID | FirstName | LastName | DateJoined | Position | \n",
       "|---|---|---|---|\n",
       "| 1          | Alice      | Allen      | 2017-03-25 | Organizer  | \n",
       "| 2          | Brad       | Boyle      | 2019-11-04 | Organizer  | \n",
       "| 3          | Chris      | Coen       | 2018-09-02 | Director   | \n",
       "| 4          | Donna      | Davis      | 2017-02-12 | Treasurer  | \n",
       "\n",
       "\n"
      ],
      "text/plain": [
       "  MemberID FirstName LastName DateJoined Position \n",
       "1 1        Alice     Allen    2017-03-25 Organizer\n",
       "2 2        Brad      Boyle    2019-11-04 Organizer\n",
       "3 3        Chris     Coen     2018-09-02 Director \n",
       "4 4        Donna     Davis    2017-02-12 Treasurer"
      ]
     },
     "metadata": {},
     "output_type": "display_data"
    },
    {
     "name": "stdout",
     "output_type": "stream",
     "text": [
      "[1] \"DF column classes:\"\n"
     ]
    },
    {
     "data": {
      "text/html": [
       "<dl class=dl-horizontal>\n",
       "\t<dt>MemberID</dt>\n",
       "\t\t<dd>'integer'</dd>\n",
       "\t<dt>FirstName</dt>\n",
       "\t\t<dd>'factor'</dd>\n",
       "\t<dt>LastName</dt>\n",
       "\t\t<dd>'factor'</dd>\n",
       "\t<dt>DateJoined</dt>\n",
       "\t\t<dd>'Date'</dd>\n",
       "\t<dt>Position</dt>\n",
       "\t\t<dd>'factor'</dd>\n",
       "</dl>\n"
      ],
      "text/latex": [
       "\\begin{description*}\n",
       "\\item[MemberID] 'integer'\n",
       "\\item[FirstName] 'factor'\n",
       "\\item[LastName] 'factor'\n",
       "\\item[DateJoined] 'Date'\n",
       "\\item[Position] 'factor'\n",
       "\\end{description*}\n"
      ],
      "text/markdown": [
       "MemberID\n",
       ":   'integer'FirstName\n",
       ":   'factor'LastName\n",
       ":   'factor'DateJoined\n",
       ":   'Date'Position\n",
       ":   'factor'\n",
       "\n"
      ],
      "text/plain": [
       "  MemberID  FirstName   LastName DateJoined   Position \n",
       " \"integer\"   \"factor\"   \"factor\"     \"Date\"   \"factor\" "
      ]
     },
     "metadata": {},
     "output_type": "display_data"
    }
   ],
   "source": [
    "# A simple data frame\n",
    "DF <- data.frame(MemberID = 1:4,\n",
    "                 FirstName = c('Alice', 'Brad', 'Chris', 'Donna'),\n",
    "                 LastName = c('Allen', 'Boyle', 'Coen', 'Davis'),\n",
    "                 DateJoined = as.Date(c('2017-03-25', '2019-11-04', '2018-09-02', '2017-02-12')),\n",
    "                 Position = factor(c('Organizer', 'Organizer', 'Director', 'Treasurer')))\n",
    "DF\n",
    "\n",
    "# Display DF column classes\n",
    "print('DF column classes:')\n",
    "sapply(DF, class)"
   ]
  },
  {
   "cell_type": "code",
   "execution_count": 8,
   "metadata": {
    "collapsed": true
   },
   "outputs": [
    {
     "data": {
      "text/html": [
       "<ol class=list-inline>\n",
       "\t<li>'1'</li>\n",
       "\t<li>'2'</li>\n",
       "\t<li>'3'</li>\n",
       "</ol>\n"
      ],
      "text/latex": [
       "\\begin{enumerate*}\n",
       "\\item '1'\n",
       "\\item '2'\n",
       "\\item '3'\n",
       "\\end{enumerate*}\n"
      ],
      "text/markdown": [
       "1. '1'\n",
       "2. '2'\n",
       "3. '3'\n",
       "\n",
       "\n"
      ],
      "text/plain": [
       "[1] \"1\" \"2\" \"3\""
      ]
     },
     "metadata": {},
     "output_type": "display_data"
    },
    {
     "data": {
      "text/html": [
       "<ol class=list-inline>\n",
       "\t<li>'1'</li>\n",
       "\t<li>'2'</li>\n",
       "\t<li>'3'</li>\n",
       "</ol>\n"
      ],
      "text/latex": [
       "\\begin{enumerate*}\n",
       "\\item '1'\n",
       "\\item '2'\n",
       "\\item '3'\n",
       "\\end{enumerate*}\n"
      ],
      "text/markdown": [
       "1. '1'\n",
       "2. '2'\n",
       "3. '3'\n",
       "\n",
       "\n"
      ],
      "text/plain": [
       "[1] \"1\" \"2\" \"3\""
      ]
     },
     "metadata": {},
     "output_type": "display_data"
    }
   ],
   "source": [
    "\n",
    "General syntax:  DT[i, j, by]\n"
   ]
  },
  {
   "cell_type": "code",
   "execution_count": 12,
   "metadata": {},
   "outputs": [
    {
     "data": {
      "text/html": [
       "85800"
      ],
      "text/latex": [
       "85800"
      ],
      "text/markdown": [
       "85800"
      ],
      "text/plain": [
       "[1] 85800"
      ]
     },
     "metadata": {},
     "output_type": "display_data"
    }
   ],
   "source": [
    "risk.dt <- fread('https://data.cdc.gov/api/views/4ny5-qn3w/rows.csv')\n",
    "risk.dt[,.N]"
   ]
  },
  {
   "cell_type": "code",
   "execution_count": 13,
   "metadata": {},
   "outputs": [
    {
     "data": {
      "text/html": [
       "<ol class=list-inline>\n",
       "\t<li>'Year'</li>\n",
       "\t<li>'LocationAbbr'</li>\n",
       "\t<li>'LocationDesc'</li>\n",
       "\t<li>'Datasource'</li>\n",
       "\t<li>'PriorityArea1'</li>\n",
       "\t<li>'PriorityArea2'</li>\n",
       "\t<li>'PriorityArea3'</li>\n",
       "\t<li>'PriorityArea4'</li>\n",
       "\t<li>'Category'</li>\n",
       "\t<li>'Topic'</li>\n",
       "\t<li>'Indicator'</li>\n",
       "\t<li>'Data_Value_Type'</li>\n",
       "\t<li>'Data_Value_Unit'</li>\n",
       "\t<li>'Data_Value'</li>\n",
       "\t<li>'Data_Value_Alt'</li>\n",
       "\t<li>'Data_Value_Footnote_Symbol'</li>\n",
       "\t<li>'Data_Value_Footnote'</li>\n",
       "\t<li>'Confidence_Limit_Low'</li>\n",
       "\t<li>'Confidence_Limit_High'</li>\n",
       "\t<li>'Break_Out_Category'</li>\n",
       "\t<li>'Break_out'</li>\n",
       "\t<li>'CategoryID'</li>\n",
       "\t<li>'TopicID'</li>\n",
       "\t<li>'IndicatorID'</li>\n",
       "\t<li>'Data_Value_TypeID'</li>\n",
       "\t<li>'BreakoutCategoryID'</li>\n",
       "\t<li>'BreakOutID'</li>\n",
       "\t<li>'LocationID'</li>\n",
       "\t<li>'GeoLocation'</li>\n",
       "</ol>\n"
      ],
      "text/latex": [
       "\\begin{enumerate*}\n",
       "\\item 'Year'\n",
       "\\item 'LocationAbbr'\n",
       "\\item 'LocationDesc'\n",
       "\\item 'Datasource'\n",
       "\\item 'PriorityArea1'\n",
       "\\item 'PriorityArea2'\n",
       "\\item 'PriorityArea3'\n",
       "\\item 'PriorityArea4'\n",
       "\\item 'Category'\n",
       "\\item 'Topic'\n",
       "\\item 'Indicator'\n",
       "\\item 'Data\\_Value\\_Type'\n",
       "\\item 'Data\\_Value\\_Unit'\n",
       "\\item 'Data\\_Value'\n",
       "\\item 'Data\\_Value\\_Alt'\n",
       "\\item 'Data\\_Value\\_Footnote\\_Symbol'\n",
       "\\item 'Data\\_Value\\_Footnote'\n",
       "\\item 'Confidence\\_Limit\\_Low'\n",
       "\\item 'Confidence\\_Limit\\_High'\n",
       "\\item 'Break\\_Out\\_Category'\n",
       "\\item 'Break\\_out'\n",
       "\\item 'CategoryID'\n",
       "\\item 'TopicID'\n",
       "\\item 'IndicatorID'\n",
       "\\item 'Data\\_Value\\_TypeID'\n",
       "\\item 'BreakoutCategoryID'\n",
       "\\item 'BreakOutID'\n",
       "\\item 'LocationID'\n",
       "\\item 'GeoLocation'\n",
       "\\end{enumerate*}\n"
      ],
      "text/markdown": [
       "1. 'Year'\n",
       "2. 'LocationAbbr'\n",
       "3. 'LocationDesc'\n",
       "4. 'Datasource'\n",
       "5. 'PriorityArea1'\n",
       "6. 'PriorityArea2'\n",
       "7. 'PriorityArea3'\n",
       "8. 'PriorityArea4'\n",
       "9. 'Category'\n",
       "10. 'Topic'\n",
       "11. 'Indicator'\n",
       "12. 'Data_Value_Type'\n",
       "13. 'Data_Value_Unit'\n",
       "14. 'Data_Value'\n",
       "15. 'Data_Value_Alt'\n",
       "16. 'Data_Value_Footnote_Symbol'\n",
       "17. 'Data_Value_Footnote'\n",
       "18. 'Confidence_Limit_Low'\n",
       "19. 'Confidence_Limit_High'\n",
       "20. 'Break_Out_Category'\n",
       "21. 'Break_out'\n",
       "22. 'CategoryID'\n",
       "23. 'TopicID'\n",
       "24. 'IndicatorID'\n",
       "25. 'Data_Value_TypeID'\n",
       "26. 'BreakoutCategoryID'\n",
       "27. 'BreakOutID'\n",
       "28. 'LocationID'\n",
       "29. 'GeoLocation'\n",
       "\n",
       "\n"
      ],
      "text/plain": [
       " [1] \"Year\"                       \"LocationAbbr\"              \n",
       " [3] \"LocationDesc\"               \"Datasource\"                \n",
       " [5] \"PriorityArea1\"              \"PriorityArea2\"             \n",
       " [7] \"PriorityArea3\"              \"PriorityArea4\"             \n",
       " [9] \"Category\"                   \"Topic\"                     \n",
       "[11] \"Indicator\"                  \"Data_Value_Type\"           \n",
       "[13] \"Data_Value_Unit\"            \"Data_Value\"                \n",
       "[15] \"Data_Value_Alt\"             \"Data_Value_Footnote_Symbol\"\n",
       "[17] \"Data_Value_Footnote\"        \"Confidence_Limit_Low\"      \n",
       "[19] \"Confidence_Limit_High\"      \"Break_Out_Category\"        \n",
       "[21] \"Break_out\"                  \"CategoryID\"                \n",
       "[23] \"TopicID\"                    \"IndicatorID\"               \n",
       "[25] \"Data_Value_TypeID\"          \"BreakoutCategoryID\"        \n",
       "[27] \"BreakOutID\"                 \"LocationID\"                \n",
       "[29] \"GeoLocation\"               "
      ]
     },
     "metadata": {},
     "output_type": "display_data"
    }
   ],
   "source": [
    "names(risk.dt)"
   ]
  }
 ],
 "metadata": {
  "kernelspec": {
   "display_name": "R",
   "language": "R",
   "name": "ir"
  },
  "language_info": {
   "codemirror_mode": "r",
   "file_extension": ".r",
   "mimetype": "text/x-r-source",
   "name": "R",
   "pygments_lexer": "r",
   "version": "3.5.1"
  }
 },
 "nbformat": 4,
 "nbformat_minor": 2
}
